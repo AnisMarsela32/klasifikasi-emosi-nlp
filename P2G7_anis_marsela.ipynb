{
 "cells": [
  {
   "cell_type": "markdown",
   "id": "33d23d87",
   "metadata": {},
   "source": [
    "## **BAB I — PENDAHULUAN**\n",
    "\n",
    "### **1.1 Identitas**\n",
    "\n",
    "* **Nama**: \\Anis Marsela\n",
    "* **Topik**: Klasifikasi Emosi pada Kalimat Menggunakan Natural Language Processing (NLP)\n",
    "* **Tools**: Python, Jupyter Notebook, Pandas, Scikit-Learn / TensorFlow, Matplotlib, Hugging Face Datasets\n",
    "* **Dataset**: Emotions Dataset for NLP Classification Tasks\n",
    "* **Sumber Dataset**:\n",
    "  [https://www.kaggle.com/datasets/praveengovi/emotions-dataset-for-nlp](https://www.kaggle.com/datasets/praveengovi/emotions-dataset-for-nlp)\n",
    "\n",
    "---\n",
    "\n",
    "### **1.2 Gambaran Umum Dataset**\n",
    "\n",
    "Dataset ini merupakan kumpulan kalimat pendek dalam bahasa Inggris yang diberi label emosi. Setiap baris terdiri dari teks dan satu label emosi, dipisahkan oleh titik koma (`;`). Dataset dibagi menjadi tiga bagian utama:\n",
    "\n",
    "* **train.txt** — data latih\n",
    "* **val.txt** — data validasi\n",
    "* **test.txt** — data uji\n",
    "\n",
    "Contoh format data:\n",
    "\n",
    "```\n",
    "i feel like I am still looking at a blank canvas blank pieces of paper;sadness\n",
    "i left with my bouquet of red and yellow tulips under my arm;joy\n",
    "```\n",
    "\n",
    "Dataset ini berisi 6 emosi utama:\n",
    "\n",
    "* **joy**\n",
    "* **sadness**\n",
    "* **anger**\n",
    "* **fear**\n",
    "* **love**\n",
    "* **surprise**\n",
    "\n",
    "Distribusi label sudah cukup seimbang untuk kebutuhan pelatihan model klasifikasi berbasis teks.\n",
    "\n",
    "---\n",
    "\n",
    "### **1.3 Latar Belakang & Masalah yang Hendak Diselesaikan**\n",
    "\n",
    "Dalam era digital saat ini, masyarakat semakin banyak mengekspresikan perasaan mereka melalui teks, baik di media sosial, email, maupun layanan pelanggan. Namun, tanpa sistem otomatis, mustahil untuk mengidentifikasi dan mengelompokkan emosi dari jutaan kalimat setiap harinya.\n",
    "\n",
    "**Masalah yang ingin diselesaikan**:\n",
    "\n",
    "> Bagaimana cara mengklasifikasikan emosi dari sebuah kalimat secara otomatis berdasarkan teks yang diberikan?\n",
    "\n",
    "Model yang dibangun dari tugas ini bertujuan membantu:\n",
    "\n",
    "* **Mendeteksi emosi pelanggan dari ulasan** (customer feedback)\n",
    "* **Memantau suasana hati pengguna di media sosial**\n",
    "* **Menjadi dasar sistem chatbot yang empatik dan responsif**\n",
    "\n",
    "---\n",
    "\n",
    "### **1.4 Justifikasi Masalah**\n",
    "\n",
    "Penelitian sebelumnya telah menunjukkan bahwa deteksi emosi dari teks sangat penting untuk berbagai aplikasi, mulai dari sistem rekomendasi hingga layanan pelanggan berbasis AI. Menurut publikasi ACL 2018 oleh [Mohammad & Bravo-Marquez](https://aclanthology.org/D18-1404/), klasifikasi emosi merupakan tugas mendesak dalam NLP yang semakin dibutuhkan dalam skenario dunia nyata.\n",
    "\n",
    "Selain itu, deteksi emosi digunakan dalam:\n",
    "\n",
    "* **HR analytics** untuk mengukur kesehatan mental karyawan\n",
    "* **EdTech** untuk menilai mood pelajar dalam pembelajaran daring\n",
    "* **Brand monitoring** untuk menilai emosi publik terhadap kampanye produk\n",
    "\n",
    "---\n",
    "\n",
    "### **1.5 Target Pengguna**\n",
    "\n",
    "Pengguna dari aplikasi/layanan berbasis model ini bisa meliputi:\n",
    "\n",
    "* **Tim layanan pelanggan** untuk memahami emosi pengguna dari percakapan teks\n",
    "* **Perusahaan media sosial** untuk moderasi dan analisis sentimen\n",
    "* **Peneliti dan pengembang NLP** untuk pengembangan sistem yang lebih empatik\n",
    "* **Layanan kesehatan mental** yang ingin memonitor emosi pasien secara tidak langsung melalui percakapan harian\n",
    "\n",
    "---\n",
    "\n",
    "### **1.6 Objective**\n",
    "\n",
    "Tujuan dari proyek ini adalah:\n",
    "\n",
    "* Membangun model klasifikasi emosi dari teks menggunakan metode NLP\n",
    "* Mengolah dataset menjadi format siap pakai untuk pelatihan model\n",
    "* Mengevaluasi performa model dalam mengenali emosi berdasarkan akurasi dan metrik lainnya\n",
    "* Menyediakan visualisasi dan interpretasi dari hasil prediksi model\n",
    "\n"
   ]
  },
  {
   "cell_type": "markdown",
   "id": "80c8a54e",
   "metadata": {},
   "source": [
    "II. Import Library"
   ]
  },
  {
   "cell_type": "code",
   "execution_count": 6,
   "id": "b4c8592c",
   "metadata": {},
   "outputs": [],
   "source": [
    "# Import libraries for data handling\n",
    "import pandas as pd\n",
    "import numpy as np\n",
    "\n",
    "# For preprocessing and NLP\n",
    "import re\n",
    "import string\n",
    "from sklearn.preprocessing import LabelEncoder\n",
    "from sklearn.model_selection import train_test_split\n",
    "from sklearn.feature_extraction.text import TfidfVectorizer\n",
    "\n",
    "# For model building\n",
    "from sklearn.linear_model import LogisticRegression\n",
    "from sklearn.naive_bayes import MultinomialNB\n",
    "from sklearn.metrics import classification_report, accuracy_score, confusion_matrix\n",
    "\n",
    "# For visualization\n",
    "import matplotlib.pyplot as plt\n",
    "import seaborn as sns\n",
    "\n",
    "# Optional: For progress bars\n",
    "from tqdm import tqdm\n",
    "\n",
    "# Ignore warnings\n",
    "import warnings\n",
    "warnings.filterwarnings('ignore')\n"
   ]
  },
  {
   "cell_type": "markdown",
   "id": "c0811535",
   "metadata": {},
   "source": [
    "III. Data Loading"
   ]
  },
  {
   "cell_type": "code",
   "execution_count": 7,
   "id": "a84cec8b",
   "metadata": {},
   "outputs": [
    {
     "name": "stdout",
     "output_type": "stream",
     "text": [
      "Train dataset size: (16000, 2)\n",
      "Test dataset size: (2000, 2)\n",
      "Validation dataset size: (2000, 2)\n",
      "\n",
      "Contoh data:\n"
     ]
    },
    {
     "data": {
      "text/html": [
       "<div>\n",
       "<style scoped>\n",
       "    .dataframe tbody tr th:only-of-type {\n",
       "        vertical-align: middle;\n",
       "    }\n",
       "\n",
       "    .dataframe tbody tr th {\n",
       "        vertical-align: top;\n",
       "    }\n",
       "\n",
       "    .dataframe thead th {\n",
       "        text-align: right;\n",
       "    }\n",
       "</style>\n",
       "<table border=\"1\" class=\"dataframe\">\n",
       "  <thead>\n",
       "    <tr style=\"text-align: right;\">\n",
       "      <th></th>\n",
       "      <th>text</th>\n",
       "      <th>label</th>\n",
       "    </tr>\n",
       "  </thead>\n",
       "  <tbody>\n",
       "    <tr>\n",
       "      <th>9559</th>\n",
       "      <td>i feel that this is a very important subject t...</td>\n",
       "      <td>joy</td>\n",
       "    </tr>\n",
       "    <tr>\n",
       "      <th>15318</th>\n",
       "      <td>i am so hurt and feel so abused</td>\n",
       "      <td>sadness</td>\n",
       "    </tr>\n",
       "    <tr>\n",
       "      <th>258</th>\n",
       "      <td>i can feel myself gaining control over the dam...</td>\n",
       "      <td>sadness</td>\n",
       "    </tr>\n",
       "    <tr>\n",
       "      <th>12639</th>\n",
       "      <td>i feel like it would make the startled person ...</td>\n",
       "      <td>fear</td>\n",
       "    </tr>\n",
       "    <tr>\n",
       "      <th>1062</th>\n",
       "      <td>i feel rather intimidated by my re his impress...</td>\n",
       "      <td>fear</td>\n",
       "    </tr>\n",
       "  </tbody>\n",
       "</table>\n",
       "</div>"
      ],
      "text/plain": [
       "                                                    text    label\n",
       "9559   i feel that this is a very important subject t...      joy\n",
       "15318                    i am so hurt and feel so abused  sadness\n",
       "258    i can feel myself gaining control over the dam...  sadness\n",
       "12639  i feel like it would make the startled person ...     fear\n",
       "1062   i feel rather intimidated by my re his impress...     fear"
      ]
     },
     "metadata": {},
     "output_type": "display_data"
    }
   ],
   "source": [
    "# Load dataset dari file .txt\n",
    "def load_emotion_dataset(file_path):\n",
    "    data = []\n",
    "    with open(file_path, 'r', encoding='utf-8') as f:\n",
    "        for line in f:\n",
    "            line = line.strip()\n",
    "            if line:\n",
    "                parts = line.split(';')\n",
    "                if len(parts) == 2:\n",
    "                    text, label = parts\n",
    "                    data.append((text.strip(), label.strip()))\n",
    "    return pd.DataFrame(data, columns=['text', 'label'])\n",
    "\n",
    "# Load semua split: train, test, val\n",
    "train_df = load_emotion_dataset('train.txt')\n",
    "test_df = load_emotion_dataset('test.txt')\n",
    "val_df = load_emotion_dataset('val.txt')\n",
    "\n",
    "# Cek ukuran masing-masing dataset\n",
    "print(\"Train dataset size:\", train_df.shape)\n",
    "print(\"Test dataset size:\", test_df.shape)\n",
    "print(\"Validation dataset size:\", val_df.shape)\n",
    "\n",
    "# Tampilkan beberapa contoh data\n",
    "print(\"\\nContoh data:\")\n",
    "display(train_df.sample(5))\n"
   ]
  },
  {
   "cell_type": "markdown",
   "id": "71842233",
   "metadata": {},
   "source": [
    "IV.EDA"
   ]
  },
  {
   "cell_type": "code",
   "execution_count": 8,
   "id": "2e8575b3",
   "metadata": {},
   "outputs": [
    {
     "name": "stdout",
     "output_type": "stream",
     "text": [
      "Distribusi label pada train set:\n"
     ]
    },
    {
     "data": {
      "text/plain": [
       "label\n",
       "joy         5362\n",
       "sadness     4666\n",
       "anger       2159\n",
       "fear        1937\n",
       "love        1304\n",
       "surprise     572\n",
       "Name: count, dtype: int64"
      ]
     },
     "metadata": {},
     "output_type": "display_data"
    },
    {
     "data": {
      "image/png": "[encoded data removed]",
      "text/plain": [
       "<Figure size 1000x600 with 1 Axes>"
      ]
     },
     "metadata": {},
     "output_type": "display_data"
    },
    {
     "name": "stdout",
     "output_type": "stream",
     "text": [
      "\n",
      "Statistik panjang teks (jumlah karakter):\n"
     ]
    },
    {
     "data": {
      "text/plain": [
       "count    16000.000000\n",
       "mean        96.845812\n",
       "std         55.904953\n",
       "min          7.000000\n",
       "25%         53.000000\n",
       "50%         86.000000\n",
       "75%        129.000000\n",
       "max        300.000000\n",
       "Name: text_length, dtype: float64"
      ]
     },
     "metadata": {},
     "output_type": "display_data"
    },
    {
     "data": {
      "image/png": "[encoded data removed]",
      "text/plain": [
       "<Figure size 1000x600 with 1 Axes>"
      ]
     },
     "metadata": {},
     "output_type": "display_data"
    },
    {
     "name": "stdout",
     "output_type": "stream",
     "text": [
      "\n",
      "Label unik pada dataset:\n",
      "['sadness' 'anger' 'love' 'surprise' 'fear' 'joy']\n",
      "\n",
      "Apakah ada duplikat pada train set? 1\n",
      "Apakah ada missing values?\n",
      " text           0\n",
      "label          0\n",
      "text_length    0\n",
      "dtype: int64\n"
     ]
    }
   ],
   "source": [
    "import matplotlib.pyplot as plt\n",
    "import seaborn as sns\n",
    "\n",
    "# Cek distribusi label pada masing-masing set\n",
    "print(\"Distribusi label pada train set:\")\n",
    "display(train_df['label'].value_counts())\n",
    "\n",
    "# Visualisasi distribusi label di train set\n",
    "plt.figure(figsize=(10, 6))\n",
    "sns.countplot(data=train_df, x='label', order=train_df['label'].value_counts().index, palette='Set2')\n",
    "plt.title('Distribusi Label pada Train Set')\n",
    "plt.xlabel('Label Emosi')\n",
    "plt.ylabel('Jumlah Data')\n",
    "plt.xticks(rotation=45)\n",
    "plt.show()\n",
    "\n",
    "# Panjang karakter pada setiap kalimat\n",
    "train_df['text_length'] = train_df['text'].apply(len)\n",
    "\n",
    "# Statistik deskriptif panjang teks\n",
    "print(\"\\nStatistik panjang teks (jumlah karakter):\")\n",
    "display(train_df['text_length'].describe())\n",
    "\n",
    "# Visualisasi distribusi panjang teks\n",
    "plt.figure(figsize=(10, 6))\n",
    "sns.histplot(train_df['text_length'], bins=30, kde=True, color='teal')\n",
    "plt.title('Distribusi Panjang Teks pada Train Set')\n",
    "plt.xlabel('Jumlah Karakter per Kalimat')\n",
    "plt.ylabel('Frekuensi')\n",
    "plt.show()\n",
    "\n",
    "# Cek label unik\n",
    "print(\"\\nLabel unik pada dataset:\")\n",
    "print(train_df['label'].unique())\n",
    "\n",
    "# Cek apakah ada duplikat atau missing values\n",
    "print(\"\\nApakah ada duplikat pada train set?\", train_df.duplicated().sum())\n",
    "print(\"Apakah ada missing values?\\n\", train_df.isnull().sum())\n"
   ]
  },
  {
   "cell_type": "markdown",
   "id": "aa34dbd7",
   "metadata": {},
   "source": [
    "V. Feature enginering"
   ]
  },
  {
   "cell_type": "code",
   "execution_count": 9,
   "id": "d28df276",
   "metadata": {},
   "outputs": [],
   "source": [
    "# 1. Cleaning text\n",
    "def clean_text(text):\n",
    "    text = text.lower()\n",
    "    text = re.sub(r\"http\\S+|www\\S+|https\\S+\", '', text)\n",
    "    text = re.sub(r\"[^a-zA-Z\\s]\", '', text)\n",
    "    text = re.sub(r\"\\s+\", ' ', text).strip()\n",
    "    return text\n",
    "\n",
    "train_df['clean_text'] = train_df['text'].apply(clean_text)\n",
    "test_df['clean_text'] = test_df['text'].apply(clean_text)\n",
    "val_df['clean_text'] = val_df['text'].apply(clean_text)\n",
    "\n",
    "# 2. Tokenization\n",
    "tokenizer = Tokenizer(oov_token=\"<OOV>\")\n",
    "tokenizer.fit_on_texts(train_df['clean_text'])\n",
    "\n",
    "# Convert to sequences\n",
    "train_sequences = tokenizer.texts_to_sequences(train_df['clean_text'])\n",
    "test_sequences = tokenizer.texts_to_sequences(test_df['clean_text'])\n",
    "val_sequences = tokenizer.texts_to_sequences(val_df['clean_text'])\n",
    "\n",
    "# 3. Padding\n",
    "max_len = max(len(x) for x in train_sequences)\n",
    "train_padded = pad_sequences(train_sequences, maxlen=max_len, padding='post')\n",
    "test_padded = pad_sequences(test_sequences, maxlen=max_len, padding='post')\n",
    "val_padded = pad_sequences(val_sequences, maxlen=max_len, padding='post')\n",
    "\n",
    "# 4. Encode labels\n",
    "label_encoder = LabelEncoder()\n",
    "train_labels = label_encoder.fit_transform(train_df['label'])\n",
    "test_labels = label_encoder.transform(test_df['label'])\n",
    "val_labels = label_encoder.transform(val_df['label'])\n",
    "\n",
    "# 5. Vocab size\n",
    "vocab_size = len(tokenizer.word_index) + 1\n"
   ]
  },
  {
   "cell_type": "markdown",
   "id": "1042d91e",
   "metadata": {},
   "source": [
    "## **ANN Training (Sequential API/Functional API)"
   ]
  },
  {
   "cell_type": "markdown",
   "id": "174863df",
   "metadata": {},
   "source": [
    " vi.1 Model Definition"
   ]
  },
  {
   "cell_type": "code",
   "execution_count": 10,
   "id": "7b691e99",
   "metadata": {},
   "outputs": [
    {
     "data": {
      "text/html": [
       "<pre style=\"white-space:pre;overflow-x:auto;line-height:normal;font-family:Menlo,'DejaVu Sans Mono',consolas,'Courier New',monospace\"><span style=\"font-weight: bold\">Model: \"sequential\"</span>\n",
       "</pre>\n"
      ],
      "text/plain": [
       "\u001b[1mModel: \"sequential\"\u001b[0m\n"
      ]
     },
     "metadata": {},
     "output_type": "display_data"
    },
    {
     "data": {
      "text/html": [
       "<pre style=\"white-space:pre;overflow-x:auto;line-height:normal;font-family:Menlo,'DejaVu Sans Mono',consolas,'Courier New',monospace\">┏━━━━━━━━━━━━━━━━━━━━━━━━━━━━━━━━━┳━━━━━━━━━━━━━━━━━━━━━━━━┳━━━━━━━━━━━━━━━┓\n",
       "┃<span style=\"font-weight: bold\"> Layer (type)                    </span>┃<span style=\"font-weight: bold\"> Output Shape           </span>┃<span style=\"font-weight: bold\">       Param # </span>┃\n",
       "┡━━━━━━━━━━━━━━━━━━━━━━━━━━━━━━━━━╇━━━━━━━━━━━━━━━━━━━━━━━━╇━━━━━━━━━━━━━━━┩\n",
       "│ embedding (<span style=\"color: #0087ff; text-decoration-color: #0087ff\">Embedding</span>)           │ ?                      │   <span style=\"color: #00af00; text-decoration-color: #00af00\">0</span> (unbuilt) │\n",
       "├─────────────────────────────────┼────────────────────────┼───────────────┤\n",
       "│ global_average_pooling1d        │ ?                      │             <span style=\"color: #00af00; text-decoration-color: #00af00\">0</span> │\n",
       "│ (<span style=\"color: #0087ff; text-decoration-color: #0087ff\">GlobalAveragePooling1D</span>)        │                        │               │\n",
       "├─────────────────────────────────┼────────────────────────┼───────────────┤\n",
       "│ dropout (<span style=\"color: #0087ff; text-decoration-color: #0087ff\">Dropout</span>)               │ ?                      │             <span style=\"color: #00af00; text-decoration-color: #00af00\">0</span> │\n",
       "├─────────────────────────────────┼────────────────────────┼───────────────┤\n",
       "│ dense (<span style=\"color: #0087ff; text-decoration-color: #0087ff\">Dense</span>)                   │ ?                      │   <span style=\"color: #00af00; text-decoration-color: #00af00\">0</span> (unbuilt) │\n",
       "├─────────────────────────────────┼────────────────────────┼───────────────┤\n",
       "│ dropout_1 (<span style=\"color: #0087ff; text-decoration-color: #0087ff\">Dropout</span>)             │ ?                      │             <span style=\"color: #00af00; text-decoration-color: #00af00\">0</span> │\n",
       "├─────────────────────────────────┼────────────────────────┼───────────────┤\n",
       "│ dense_1 (<span style=\"color: #0087ff; text-decoration-color: #0087ff\">Dense</span>)                 │ ?                      │   <span style=\"color: #00af00; text-decoration-color: #00af00\">0</span> (unbuilt) │\n",
       "└─────────────────────────────────┴────────────────────────┴───────────────┘\n",
       "</pre>\n"
      ],
      "text/plain": [
       "┏━━━━━━━━━━━━━━━━━━━━━━━━━━━━━━━━━┳━━━━━━━━━━━━━━━━━━━━━━━━┳━━━━━━━━━━━━━━━┓\n",
       "┃\u001b[1m \u001b[0m\u001b[1mLayer (type)                   \u001b[0m\u001b[1m \u001b[0m┃\u001b[1m \u001b[0m\u001b[1mOutput Shape          \u001b[0m\u001b[1m \u001b[0m┃\u001b[1m \u001b[0m\u001b[1m      Param #\u001b[0m\u001b[1m \u001b[0m┃\n",
       "┡━━━━━━━━━━━━━━━━━━━━━━━━━━━━━━━━━╇━━━━━━━━━━━━━━━━━━━━━━━━╇━━━━━━━━━━━━━━━┩\n",
       "│ embedding (\u001b[38;5;33mEmbedding\u001b[0m)           │ ?                      │   \u001b[38;5;34m0\u001b[0m (unbuilt) │\n",
       "├─────────────────────────────────┼────────────────────────┼───────────────┤\n",
       "│ global_average_pooling1d        │ ?                      │             \u001b[38;5;34m0\u001b[0m │\n",
       "│ (\u001b[38;5;33mGlobalAveragePooling1D\u001b[0m)        │                        │               │\n",
       "├─────────────────────────────────┼────────────────────────┼───────────────┤\n",
       "│ dropout (\u001b[38;5;33mDropout\u001b[0m)               │ ?                      │             \u001b[38;5;34m0\u001b[0m │\n",
       "├─────────────────────────────────┼────────────────────────┼───────────────┤\n",
       "│ dense (\u001b[38;5;33mDense\u001b[0m)                   │ ?                      │   \u001b[38;5;34m0\u001b[0m (unbuilt) │\n",
       "├─────────────────────────────────┼────────────────────────┼───────────────┤\n",
       "│ dropout_1 (\u001b[38;5;33mDropout\u001b[0m)             │ ?                      │             \u001b[38;5;34m0\u001b[0m │\n",
       "├─────────────────────────────────┼────────────────────────┼───────────────┤\n",
       "│ dense_1 (\u001b[38;5;33mDense\u001b[0m)                 │ ?                      │   \u001b[38;5;34m0\u001b[0m (unbuilt) │\n",
       "└─────────────────────────────────┴────────────────────────┴───────────────┘\n"
      ]
     },
     "metadata": {},
     "output_type": "display_data"
    },
    {
     "data": {
      "text/html": [
       "<pre style=\"white-space:pre;overflow-x:auto;line-height:normal;font-family:Menlo,'DejaVu Sans Mono',consolas,'Courier New',monospace\"><span style=\"font-weight: bold\"> Total params: </span><span style=\"color: #00af00; text-decoration-color: #00af00\">0</span> (0.00 B)\n",
       "</pre>\n"
      ],
      "text/plain": [
       "\u001b[1m Total params: \u001b[0m\u001b[38;5;34m0\u001b[0m (0.00 B)\n"
      ]
     },
     "metadata": {},
     "output_type": "display_data"
    },
    {
     "data": {
      "text/html": [
       "<pre style=\"white-space:pre;overflow-x:auto;line-height:normal;font-family:Menlo,'DejaVu Sans Mono',consolas,'Courier New',monospace\"><span style=\"font-weight: bold\"> Trainable params: </span><span style=\"color: #00af00; text-decoration-color: #00af00\">0</span> (0.00 B)\n",
       "</pre>\n"
      ],
      "text/plain": [
       "\u001b[1m Trainable params: \u001b[0m\u001b[38;5;34m0\u001b[0m (0.00 B)\n"
      ]
     },
     "metadata": {},
     "output_type": "display_data"
    },
    {
     "data": {
      "text/html": [
       "<pre style=\"white-space:pre;overflow-x:auto;line-height:normal;font-family:Menlo,'DejaVu Sans Mono',consolas,'Courier New',monospace\"><span style=\"font-weight: bold\"> Non-trainable params: </span><span style=\"color: #00af00; text-decoration-color: #00af00\">0</span> (0.00 B)\n",
       "</pre>\n"
      ],
      "text/plain": [
       "\u001b[1m Non-trainable params: \u001b[0m\u001b[38;5;34m0\u001b[0m (0.00 B)\n"
      ]
     },
     "metadata": {},
     "output_type": "display_data"
    }
   ],
   "source": [
    "model = Sequential([\n",
    "    Embedding(input_dim=vocab_size, output_dim=64, input_length=max_len),\n",
    "    GlobalAveragePooling1D(),\n",
    "    Dropout(0.3),\n",
    "    Dense(32, activation='relu'),\n",
    "    Dropout(0.3),\n",
    "    Dense(len(label_encoder.classes_), activation='softmax')  # Multi-class\n",
    "])\n",
    "\n",
    "model.compile(\n",
    "    loss='sparse_categorical_crossentropy',\n",
    "    optimizer=Adam(learning_rate=0.001),\n",
    "    metrics=['accuracy']\n",
    ")\n",
    "\n",
    "model.summary()\n"
   ]
  },
  {
   "cell_type": "markdown",
   "id": "e9b933da",
   "metadata": {},
   "source": [
    "vi.2 Model Training"
   ]
  },
  {
   "cell_type": "code",
   "execution_count": 14,
   "id": "8bcf49bb",
   "metadata": {},
   "outputs": [
    {
     "name": "stdout",
     "output_type": "stream",
     "text": [
      "Epoch 1/15\n",
      "500/500 - 4s - 8ms/step - accuracy: 0.9731 - loss: 0.0918 - val_accuracy: 0.8885 - val_loss: 0.3692\n",
      "Epoch 2/15\n",
      "500/500 - 3s - 6ms/step - accuracy: 0.9712 - loss: 0.0937 - val_accuracy: 0.8875 - val_loss: 0.3823\n",
      "Epoch 3/15\n",
      "500/500 - 3s - 6ms/step - accuracy: 0.9748 - loss: 0.0846 - val_accuracy: 0.8690 - val_loss: 0.4845\n",
      "Epoch 4/15\n",
      "500/500 - 3s - 6ms/step - accuracy: 0.9774 - loss: 0.0782 - val_accuracy: 0.8870 - val_loss: 0.4013\n",
      "Epoch 5/15\n",
      "500/500 - 3s - 6ms/step - accuracy: 0.9768 - loss: 0.0750 - val_accuracy: 0.8900 - val_loss: 0.3992\n",
      "Epoch 6/15\n",
      "500/500 - 3s - 6ms/step - accuracy: 0.9768 - loss: 0.0769 - val_accuracy: 0.8845 - val_loss: 0.4344\n",
      "Epoch 7/15\n",
      "500/500 - 3s - 6ms/step - accuracy: 0.9741 - loss: 0.0804 - val_accuracy: 0.8850 - val_loss: 0.4574\n",
      "Epoch 8/15\n",
      "500/500 - 3s - 6ms/step - accuracy: 0.9782 - loss: 0.0718 - val_accuracy: 0.8730 - val_loss: 0.5237\n",
      "Epoch 9/15\n",
      "500/500 - 3s - 6ms/step - accuracy: 0.9810 - loss: 0.0660 - val_accuracy: 0.8805 - val_loss: 0.4677\n",
      "Epoch 10/15\n",
      "500/500 - 3s - 6ms/step - accuracy: 0.9807 - loss: 0.0617 - val_accuracy: 0.8855 - val_loss: 0.4630\n",
      "Epoch 11/15\n",
      "500/500 - 3s - 6ms/step - accuracy: 0.9786 - loss: 0.0681 - val_accuracy: 0.8850 - val_loss: 0.4384\n",
      "Epoch 12/15\n",
      "500/500 - 3s - 6ms/step - accuracy: 0.9791 - loss: 0.0641 - val_accuracy: 0.8660 - val_loss: 0.4963\n",
      "Epoch 13/15\n",
      "500/500 - 3s - 6ms/step - accuracy: 0.9824 - loss: 0.0564 - val_accuracy: 0.8895 - val_loss: 0.4507\n",
      "Epoch 14/15\n",
      "500/500 - 3s - 6ms/step - accuracy: 0.9804 - loss: 0.0642 - val_accuracy: 0.8825 - val_loss: 0.5043\n",
      "Epoch 15/15\n",
      "500/500 - 3s - 6ms/step - accuracy: 0.9817 - loss: 0.0596 - val_accuracy: 0.8840 - val_loss: 0.4700\n"
     ]
    }
   ],
   "source": [
    "history = model.fit(\n",
    "    train_padded, train_labels,\n",
    "    validation_data=(val_padded, val_labels),\n",
    "    epochs=15,\n",
    "    batch_size=32,\n",
    "    verbose=2\n",
    ")\n"
   ]
  },
  {
   "cell_type": "code",
   "execution_count": 13,
   "id": "dcfa9f98",
   "metadata": {},
   "outputs": [],
   "source": [
    "from tensorflow.keras.optimizers import Adam\n",
    "\n",
    "model.compile(\n",
    "    loss='sparse_categorical_crossentropy',\n",
    "    optimizer=Adam(learning_rate=0.0005),  # learning rate baru\n",
    "    metrics=['accuracy']\n",
    ")\n"
   ]
  },
  {
   "cell_type": "markdown",
   "id": "9b1eb07c",
   "metadata": {},
   "source": [
    " Model Evaluation"
   ]
  },
  {
   "cell_type": "code",
   "execution_count": null,
   "id": "226f5265",
   "metadata": {},
   "outputs": [],
   "source": [
    "# Plot akurasi\n",
    "plt.figure(figsize=(12, 5))\n",
    "\n",
    "# Accuracy plot\n",
    "plt.subplot(1, 2, 1)\n",
    "plt.plot(history.history['accuracy'], label='Train Accuracy')\n",
    "plt.plot(history.history['val_accuracy'], label='Val Accuracy')\n",
    "plt.title('Akurasi Training vs Validasi')\n",
    "plt.xlabel('Epoch')\n",
    "plt.ylabel('Accuracy')\n",
    "plt.legend()\n",
    "\n",
    "# Loss plot\n",
    "plt.subplot(1, 2, 2)\n",
    "plt.plot(history.history['loss'], label='Train Loss')\n",
    "plt.plot(history.history['val_loss'], label='Val Loss')\n",
    "plt.title('Loss Training vs Validasi')\n",
    "plt.xlabel('Epoch')\n",
    "plt.ylabel('Loss')\n",
    "plt.legend()\n",
    "\n",
    "plt.tight_layout()\n",
    "plt.show()\n"
   ]
  },
  {
   "cell_type": "code",
   "execution_count": null,
   "id": "0d779247",
   "metadata": {},
   "outputs": [],
   "source": [
    "test_loss, test_acc = model.evaluate(test_padded, test_labels, verbose=0)\n",
    "print(f\"Akurasi pada data uji: {test_acc:.4f}\")\n"
   ]
  },
  {
   "cell_type": "code",
   "execution_count": null,
   "id": "9d3d2b7a",
   "metadata": {},
   "outputs": [],
   "source": [
    "from sklearn.metrics import classification_report, confusion_matrix, ConfusionMatrixDisplay\n",
    "\n",
    "# Prediksi data uji\n",
    "y_pred = model.predict(test_padded)\n",
    "y_pred_labels = np.argmax(y_pred, axis=1)\n",
    "\n",
    "# Confusion matrix\n",
    "cm = confusion_matrix(test_labels, y_pred_labels)\n",
    "disp = ConfusionMatrixDisplay(confusion_matrix=cm, display_labels=label_encoder.classes_)\n",
    "disp.plot(xticks_rotation=45, cmap='Blues')\n",
    "plt.title(\"Confusion Matrix pada Data Uji\")\n",
    "plt.show()\n",
    "\n",
    "# Classification report\n",
    "report = classification_report(test_labels, y_pred_labels, target_names=label_encoder.classes_)\n",
    "print(\"Classification Report:\\n\")\n",
    "print(report)\n"
   ]
  },
  {
   "cell_type": "code",
   "execution_count": 16,
   "id": "07724c88",
   "metadata": {},
   "outputs": [
    {
     "name": "stdout",
     "output_type": "stream",
     "text": [
      "Python 3.9.23\n"
     ]
    }
   ],
   "source": [
    "!python --version\n"
   ]
  },
  {
   "cell_type": "code",
   "execution_count": 18,
   "id": "8e30e38a",
   "metadata": {},
   "outputs": [
    {
     "data": {
      "text/plain": [
       "'2.18.0'"
      ]
     },
     "execution_count": 18,
     "metadata": {},
     "output_type": "execute_result"
    }
   ],
   "source": [
    "import tensorflow as tf\n",
    "tf.__version__\n"
   ]
  }
 ],
 "metadata": {
  "kernelspec": {
   "display_name": "h8_env",
   "language": "python",
   "name": "python3"
  },
  "language_info": {
   "codemirror_mode": {
    "name": "ipython",
    "version": 3
   },
   "file_extension": ".py",
   "mimetype": "text/x-python",
   "name": "python",
   "nbconvert_exporter": "python",
   "pygments_lexer": "ipython3",
   "version": "3.9.23"
  }
 },
 "nbformat": 4,
 "nbformat_minor": 5
}

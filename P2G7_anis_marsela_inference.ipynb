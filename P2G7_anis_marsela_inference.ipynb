{
  "cells": [
    {
      "cell_type": "code",
      "execution_count": 1,
      "metadata": {
        "id": "mDO6kE-ktWHC",
        "colab": {
          "base_uri": "https://localhost:8080/"
        },
        "outputId": "9540762e-4160-4d30-eb1e-175919601a06"
      },
      "outputs": [
        {
          "output_type": "stream",
          "name": "stdout",
          "text": [
            "\u001b[2K     \u001b[90m━━━━━━━━━━━━━━━━━━━━━━━━━━━━━━━━━━━━━━━━\u001b[0m \u001b[32m61.0/61.0 kB\u001b[0m \u001b[31m2.3 MB/s\u001b[0m eta \u001b[36m0:00:00\u001b[0m\n",
            "\u001b[2K   \u001b[90m━━━━━━━━━━━━━━━━━━━━━━━━━━━━━━━━━━━━━━━━\u001b[0m \u001b[32m475.3/475.3 MB\u001b[0m \u001b[31m3.4 MB/s\u001b[0m eta \u001b[36m0:00:00\u001b[0m\n",
            "\u001b[2K   \u001b[90m━━━━━━━━━━━━━━━━━━━━━━━━━━━━━━━━━━━━━━━━\u001b[0m \u001b[32m1.7/1.7 MB\u001b[0m \u001b[31m37.8 MB/s\u001b[0m eta \u001b[36m0:00:00\u001b[0m\n",
            "\u001b[2K   \u001b[90m━━━━━━━━━━━━━━━━━━━━━━━━━━━━━━━━━━━━━━━━\u001b[0m \u001b[32m1.7/1.7 MB\u001b[0m \u001b[31m44.5 MB/s\u001b[0m eta \u001b[36m0:00:00\u001b[0m\n",
            "\u001b[2K   \u001b[90m━━━━━━━━━━━━━━━━━━━━━━━━━━━━━━━━━━━━━━━━\u001b[0m \u001b[32m2.2/2.2 MB\u001b[0m \u001b[31m44.3 MB/s\u001b[0m eta \u001b[36m0:00:00\u001b[0m\n",
            "\u001b[2K   \u001b[90m━━━━━━━━━━━━━━━━━━━━━━━━━━━━━━━━━━━━━━━━\u001b[0m \u001b[32m18.3/18.3 MB\u001b[0m \u001b[31m37.2 MB/s\u001b[0m eta \u001b[36m0:00:00\u001b[0m\n",
            "\u001b[2K   \u001b[90m━━━━━━━━━━━━━━━━━━━━━━━━━━━━━━━━━━━━━━━━\u001b[0m \u001b[32m294.9/294.9 kB\u001b[0m \u001b[31m21.1 MB/s\u001b[0m eta \u001b[36m0:00:00\u001b[0m\n",
            "\u001b[2K   \u001b[90m━━━━━━━━━━━━━━━━━━━━━━━━━━━━━━━━━━━━━━━━\u001b[0m \u001b[32m5.5/5.5 MB\u001b[0m \u001b[31m61.2 MB/s\u001b[0m eta \u001b[36m0:00:00\u001b[0m\n",
            "\u001b[2K   \u001b[90m━━━━━━━━━━━━━━━━━━━━━━━━━━━━━━━━━━━━━━━━\u001b[0m \u001b[32m442.0/442.0 kB\u001b[0m \u001b[31m24.9 MB/s\u001b[0m eta \u001b[36m0:00:00\u001b[0m\n",
            "\u001b[2K   \u001b[90m━━━━━━━━━━━━━━━━━━━━━━━━━━━━━━━━━━━━━━━━\u001b[0m \u001b[32m78.4/78.4 kB\u001b[0m \u001b[31m6.0 MB/s\u001b[0m eta \u001b[36m0:00:00\u001b[0m\n",
            "\u001b[?25h\u001b[31mERROR: pip's dependency resolver does not currently take into account all the packages that are installed. This behaviour is the source of the following dependency conflicts.\n",
            "tensorflow-decision-forests 1.11.0 requires tensorflow==2.18.0, but you have tensorflow 2.15.1 which is incompatible.\n",
            "tensorflow-decision-forests 1.11.0 requires tf-keras~=2.17, but you have tf-keras 2.15.1 which is incompatible.\n",
            "ydf 0.12.0 requires protobuf<6.0.0,>=5.29.1, but you have protobuf 4.25.8 which is incompatible.\n",
            "thinc 8.3.6 requires numpy<3.0.0,>=2.0.0, but you have numpy 1.26.4 which is incompatible.\n",
            "grpcio-status 1.71.0 requires protobuf<6.0dev,>=5.26.1, but you have protobuf 4.25.8 which is incompatible.\n",
            "tensorflow-text 2.18.1 requires tensorflow<2.19,>=2.18.0, but you have tensorflow 2.15.1 which is incompatible.\n",
            "jax 0.5.2 requires ml_dtypes>=0.4.0, but you have ml-dtypes 0.3.2 which is incompatible.\n",
            "dopamine-rl 4.1.2 requires tf-keras>=2.18.0, but you have tf-keras 2.15.1 which is incompatible.\u001b[0m\u001b[31m\n",
            "\u001b[0m"
          ]
        }
      ],
      "source": [
        "# Downgrade version of TensorFlow and tf-keras\n",
        "\n",
        "!pip install -q --upgrade \"tensorflow<2.16\" \"tf-keras<2.16\""
      ]
    },
    {
      "cell_type": "code",
      "source": [
        "import pickle\n",
        "import numpy as np\n",
        "from tensorflow.keras.models import load_model\n",
        "from tensorflow.keras.preprocessing.sequence import pad_sequences\n",
        "\n",
        "# Fungsi prediksi\n",
        "def predict_emotion(text, tokenizer, model, label_binarizer, max_len=35):\n",
        "    sequence = tokenizer.texts_to_sequences([text])\n",
        "    padded = pad_sequences(sequence, maxlen=max_len, padding='post')\n",
        "    prediction = model.predict(padded)\n",
        "    emotion = label_binarizer.inverse_transform(prediction)\n",
        "    confidence = np.max(prediction)\n",
        "    return emotion[0], confidence\n",
        "\n",
        "# Load model\n",
        "loaded_model = load_model('model.h5')\n",
        "\n",
        "# Load tokenizer & label binarizer\n",
        "with open('tokenizer.pkl', 'rb') as f:\n",
        "    tokenizer_loaded = pickle.load(f)\n",
        "\n",
        "with open('label_binarizer.pkl', 'rb') as f:\n",
        "    lb_loaded = pickle.load(f)\n"
      ],
      "metadata": {
        "id": "5CW6Rtqi0NZt"
      },
      "execution_count": 8,
      "outputs": []
    },
    {
      "cell_type": "code",
      "source": [
        "kalimat_list = [\n",
        "    \"Thank you, I am so happy right now\",\n",
        "    \"I feel so sad and lonely.\",\n",
        "    \"I love spending time with my family.\",\n",
        "    \"I hate you\",\n",
        "    \"I am scare, I can't sleep well\",\n",
        "]\n",
        "\n",
        "for kalimat in kalimat_list:\n",
        "    emosi, konfiden = predict_emotion(kalimat, tokenizer_loaded, loaded_model, lb_loaded, max_length)\n",
        "    print(f\"Kalimat: \\\"{kalimat}\\\"\\nPrediksi Emosi: {emosi} (Confidence: {konfiden:.2f})\\n\")\n"
      ],
      "metadata": {
        "colab": {
          "base_uri": "https://localhost:8080/"
        },
        "id": "27yiuRdN0Pc5",
        "outputId": "5e4067c3-5cf2-42be-f774-ae4528c250da"
      },
      "execution_count": 10,
      "outputs": [
        {
          "output_type": "stream",
          "name": "stdout",
          "text": [
            "1/1 [==============================] - 0s 34ms/step\n",
            "Kalimat: \"Thank you, I am so happy right now\"\n",
            "Prediksi Emosi: joy (Confidence: 1.00)\n",
            "\n",
            "1/1 [==============================] - 0s 29ms/step\n",
            "Kalimat: \"I feel so sad and lonely.\"\n",
            "Prediksi Emosi: sadness (Confidence: 0.98)\n",
            "\n",
            "1/1 [==============================] - 0s 30ms/step\n",
            "Kalimat: \"I love spending time with my family.\"\n",
            "Prediksi Emosi: love (Confidence: 0.85)\n",
            "\n",
            "1/1 [==============================] - 0s 30ms/step\n",
            "Kalimat: \"I hate you\"\n",
            "Prediksi Emosi: anger (Confidence: 0.81)\n",
            "\n",
            "1/1 [==============================] - 0s 29ms/step\n",
            "Kalimat: \"I am scare, I can't sleep well\"\n",
            "Prediksi Emosi: fear (Confidence: 0.99)\n",
            "\n",
            "1/1 [==============================] - 0s 31ms/step\n",
            "Kalimat: \"I will suprise her\"\n",
            "Prediksi Emosi: anger (Confidence: 0.68)\n",
            "\n"
          ]
        }
      ]
    }
  ],
  "metadata": {
    "colab": {
      "provenance": []
    },
    "kernelspec": {
      "display_name": "Python 3",
      "name": "python3"
    },
    "language_info": {
      "name": "python"
    }
  },
  "nbformat": 4,
  "nbformat_minor": 0
}